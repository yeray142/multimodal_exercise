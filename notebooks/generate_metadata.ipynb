{
 "cells": [
  {
   "metadata": {},
   "cell_type": "markdown",
   "source": "## 1. Importing libraries",
   "id": "ed0565bfef6ba451"
  },
  {
   "metadata": {
    "ExecuteTime": {
     "end_time": "2025-03-25T10:19:36.352512Z",
     "start_time": "2025-03-25T10:19:36.350746Z"
    }
   },
   "cell_type": "code",
   "source": [
    "import os\n",
    "import pandas as pd\n",
    "import pickle\n",
    "\n",
    "DATA_FOLDER = \"/home/yeray142/Documents/projects/multimodal-exercise/data/dataset\""
   ],
   "id": "27d2666d60cda65d",
   "outputs": [],
   "execution_count": 38
  },
  {
   "metadata": {},
   "cell_type": "markdown",
   "source": "## 2. Reading data",
   "id": "dd5ac43e56f8f2b3"
  },
  {
   "cell_type": "code",
   "id": "initial_id",
   "metadata": {
    "collapsed": true,
    "ExecuteTime": {
     "end_time": "2025-03-25T10:19:36.408955Z",
     "start_time": "2025-03-25T10:19:36.394774Z"
    }
   },
   "source": [
    "age_dev = pd.read_csv('/home/yeray142/Documents/projects/multimodal-exercise/data/annotations/fi_age_labels/age_anno_dev.csv')\n",
    "age_test = pd.read_csv('/home/yeray142/Documents/projects/multimodal-exercise/data/annotations/fi_age_labels/age_anno_test.csv')"
   ],
   "outputs": [],
   "execution_count": 39
  },
  {
   "metadata": {
    "ExecuteTime": {
     "end_time": "2025-03-25T10:19:36.450648Z",
     "start_time": "2025-03-25T10:19:36.444800Z"
    }
   },
   "cell_type": "code",
   "source": "age_dev.head()",
   "id": "fa9d816237f5bacf",
   "outputs": [
    {
     "data": {
      "text/plain": [
       "             VideoName    YouTubeID  AgeGroup\n",
       "0  --Ymqszjv54.001.mp4  --Ymqszjv54         5\n",
       "1  --Ymqszjv54.003.mp4  --Ymqszjv54         5\n",
       "2  --Ymqszjv54.004.mp4  --Ymqszjv54         5\n",
       "3  --Ymqszjv54.005.mp4  --Ymqszjv54         5\n",
       "4  -2qsCrkXdWs.001.mp4  -2qsCrkXdWs         2"
      ],
      "text/html": [
       "<div>\n",
       "<style scoped>\n",
       "    .dataframe tbody tr th:only-of-type {\n",
       "        vertical-align: middle;\n",
       "    }\n",
       "\n",
       "    .dataframe tbody tr th {\n",
       "        vertical-align: top;\n",
       "    }\n",
       "\n",
       "    .dataframe thead th {\n",
       "        text-align: right;\n",
       "    }\n",
       "</style>\n",
       "<table border=\"1\" class=\"dataframe\">\n",
       "  <thead>\n",
       "    <tr style=\"text-align: right;\">\n",
       "      <th></th>\n",
       "      <th>VideoName</th>\n",
       "      <th>YouTubeID</th>\n",
       "      <th>AgeGroup</th>\n",
       "    </tr>\n",
       "  </thead>\n",
       "  <tbody>\n",
       "    <tr>\n",
       "      <th>0</th>\n",
       "      <td>--Ymqszjv54.001.mp4</td>\n",
       "      <td>--Ymqszjv54</td>\n",
       "      <td>5</td>\n",
       "    </tr>\n",
       "    <tr>\n",
       "      <th>1</th>\n",
       "      <td>--Ymqszjv54.003.mp4</td>\n",
       "      <td>--Ymqszjv54</td>\n",
       "      <td>5</td>\n",
       "    </tr>\n",
       "    <tr>\n",
       "      <th>2</th>\n",
       "      <td>--Ymqszjv54.004.mp4</td>\n",
       "      <td>--Ymqszjv54</td>\n",
       "      <td>5</td>\n",
       "    </tr>\n",
       "    <tr>\n",
       "      <th>3</th>\n",
       "      <td>--Ymqszjv54.005.mp4</td>\n",
       "      <td>--Ymqszjv54</td>\n",
       "      <td>5</td>\n",
       "    </tr>\n",
       "    <tr>\n",
       "      <th>4</th>\n",
       "      <td>-2qsCrkXdWs.001.mp4</td>\n",
       "      <td>-2qsCrkXdWs</td>\n",
       "      <td>2</td>\n",
       "    </tr>\n",
       "  </tbody>\n",
       "</table>\n",
       "</div>"
      ]
     },
     "execution_count": 40,
     "metadata": {},
     "output_type": "execute_result"
    }
   ],
   "execution_count": 40
  },
  {
   "metadata": {
    "ExecuteTime": {
     "end_time": "2025-03-25T10:19:36.500757Z",
     "start_time": "2025-03-25T10:19:36.497851Z"
    }
   },
   "cell_type": "code",
   "source": [
    "test_videos = os.path.join(DATA_FOLDER, 'test')\n",
    "train_videos = os.path.join(DATA_FOLDER, 'train')\n",
    "validation_videos = os.path.join(DATA_FOLDER, 'validation')"
   ],
   "id": "c73d3de2ac3a0240",
   "outputs": [],
   "execution_count": 41
  },
  {
   "metadata": {
    "ExecuteTime": {
     "end_time": "2025-03-25T10:19:36.553273Z",
     "start_time": "2025-03-25T10:19:36.543633Z"
    }
   },
   "cell_type": "code",
   "source": [
    "# Load transcriptions pickle file\n",
    "with open(os.path.join('/home/yeray142/Documents/projects/multimodal-exercise/data/annotations/transcription_test.pkl'), 'rb') as f:\n",
    "    transcriptions_test = pickle.load(f)\n",
    "\n",
    "with open(os.path.join('/home/yeray142/Documents/projects/multimodal-exercise/data/annotations/transcription_training.pkl'), 'rb') as f:\n",
    "    transcriptions_train = pickle.load(f)\n",
    "\n",
    "with open(os.path.join('/home/yeray142/Documents/projects/multimodal-exercise/data/annotations/transcription_validation.pkl'), 'rb') as f:\n",
    "    transcriptions_validation = pickle.load(f)"
   ],
   "id": "42adcb414e8b36ea",
   "outputs": [],
   "execution_count": 42
  },
  {
   "metadata": {},
   "cell_type": "markdown",
   "source": "The following function will be used to get the video names from the folders:",
   "id": "bf1479185e542e52"
  },
  {
   "metadata": {
    "ExecuteTime": {
     "end_time": "2025-03-25T10:19:36.658314Z",
     "start_time": "2025-03-25T10:19:36.597307Z"
    }
   },
   "cell_type": "code",
   "source": [
    "# Loop through the folders and get the video names\n",
    "def get_video_names(folder):\n",
    "    return [f for f in os.listdir(folder) if os.path.isfile(os.path.join(folder, f))]\n",
    "\n",
    "test_videos = get_video_names(test_videos)\n",
    "train_videos = get_video_names(train_videos)\n",
    "validation_videos = get_video_names(validation_videos)\n",
    "print(test_videos[:5])"
   ],
   "id": "e70fbb6f625bf577",
   "outputs": [
    {
     "name": "stdout",
     "output_type": "stream",
     "text": [
      "['VTv4BAYgJpk.000.mp4', 'Lz3hYPF6aIM.002.mp4', 'U-XrzfFzMkg.001.mp4', '53QFyec0uN0.000.mp4', '-N6QKrbnaDs.001.mp4']\n"
     ]
    }
   ],
   "execution_count": 43
  },
  {
   "metadata": {},
   "cell_type": "markdown",
   "source": "Let's check that all videos in the folders are in the age_dev and age_test dataframes:",
   "id": "adde6fd0423bf409"
  },
  {
   "metadata": {
    "ExecuteTime": {
     "end_time": "2025-03-25T10:19:37.392872Z",
     "start_time": "2025-03-25T10:19:36.668567Z"
    }
   },
   "cell_type": "code",
   "source": [
    "def check_videos_in_df(videos, df):\n",
    "    for video in videos:\n",
    "        if video not in df['VideoName'].values:\n",
    "            print(f\"{video} not in df\")\n",
    "\n",
    "check_videos_in_df(test_videos, age_test)\n",
    "check_videos_in_df(train_videos, age_dev)\n",
    "check_videos_in_df(validation_videos, age_dev)"
   ],
   "id": "7ffd33d5c6feeb91",
   "outputs": [
    {
     "name": "stdout",
     "output_type": "stream",
     "text": [
      "metadata.csv not in df\n",
      "metadata.csv not in df\n",
      "metadata.csv not in df\n"
     ]
    }
   ],
   "execution_count": 44
  },
  {
   "metadata": {},
   "cell_type": "markdown",
   "source": "## 3. Split dev into train and validation based on the folders",
   "id": "ea2c5eee4974eff1"
  },
  {
   "metadata": {
    "ExecuteTime": {
     "end_time": "2025-03-25T10:19:37.444194Z",
     "start_time": "2025-03-25T10:19:37.438661Z"
    }
   },
   "cell_type": "code",
   "source": [
    "# Split dev into train and validation based on the folders\n",
    "age_dev['split'] = 'train'\n",
    "age_dev.loc[age_dev['VideoName'].isin(validation_videos), 'split'] = 'validation'\n",
    "age_dev['split'].value_counts()"
   ],
   "id": "98a2699ec130af18",
   "outputs": [
    {
     "data": {
      "text/plain": [
       "split\n",
       "train         6000\n",
       "validation    2000\n",
       "Name: count, dtype: int64"
      ]
     },
     "execution_count": 45,
     "metadata": {},
     "output_type": "execute_result"
    }
   ],
   "execution_count": 45
  },
  {
   "metadata": {
    "ExecuteTime": {
     "end_time": "2025-03-25T10:19:37.511812Z",
     "start_time": "2025-03-25T10:19:37.508460Z"
    }
   },
   "cell_type": "code",
   "source": "age_dev.head()",
   "id": "b70eff1fddf653be",
   "outputs": [
    {
     "data": {
      "text/plain": [
       "             VideoName    YouTubeID  AgeGroup  split\n",
       "0  --Ymqszjv54.001.mp4  --Ymqszjv54         5  train\n",
       "1  --Ymqszjv54.003.mp4  --Ymqszjv54         5  train\n",
       "2  --Ymqszjv54.004.mp4  --Ymqszjv54         5  train\n",
       "3  --Ymqszjv54.005.mp4  --Ymqszjv54         5  train\n",
       "4  -2qsCrkXdWs.001.mp4  -2qsCrkXdWs         2  train"
      ],
      "text/html": [
       "<div>\n",
       "<style scoped>\n",
       "    .dataframe tbody tr th:only-of-type {\n",
       "        vertical-align: middle;\n",
       "    }\n",
       "\n",
       "    .dataframe tbody tr th {\n",
       "        vertical-align: top;\n",
       "    }\n",
       "\n",
       "    .dataframe thead th {\n",
       "        text-align: right;\n",
       "    }\n",
       "</style>\n",
       "<table border=\"1\" class=\"dataframe\">\n",
       "  <thead>\n",
       "    <tr style=\"text-align: right;\">\n",
       "      <th></th>\n",
       "      <th>VideoName</th>\n",
       "      <th>YouTubeID</th>\n",
       "      <th>AgeGroup</th>\n",
       "      <th>split</th>\n",
       "    </tr>\n",
       "  </thead>\n",
       "  <tbody>\n",
       "    <tr>\n",
       "      <th>0</th>\n",
       "      <td>--Ymqszjv54.001.mp4</td>\n",
       "      <td>--Ymqszjv54</td>\n",
       "      <td>5</td>\n",
       "      <td>train</td>\n",
       "    </tr>\n",
       "    <tr>\n",
       "      <th>1</th>\n",
       "      <td>--Ymqszjv54.003.mp4</td>\n",
       "      <td>--Ymqszjv54</td>\n",
       "      <td>5</td>\n",
       "      <td>train</td>\n",
       "    </tr>\n",
       "    <tr>\n",
       "      <th>2</th>\n",
       "      <td>--Ymqszjv54.004.mp4</td>\n",
       "      <td>--Ymqszjv54</td>\n",
       "      <td>5</td>\n",
       "      <td>train</td>\n",
       "    </tr>\n",
       "    <tr>\n",
       "      <th>3</th>\n",
       "      <td>--Ymqszjv54.005.mp4</td>\n",
       "      <td>--Ymqszjv54</td>\n",
       "      <td>5</td>\n",
       "      <td>train</td>\n",
       "    </tr>\n",
       "    <tr>\n",
       "      <th>4</th>\n",
       "      <td>-2qsCrkXdWs.001.mp4</td>\n",
       "      <td>-2qsCrkXdWs</td>\n",
       "      <td>2</td>\n",
       "      <td>train</td>\n",
       "    </tr>\n",
       "  </tbody>\n",
       "</table>\n",
       "</div>"
      ]
     },
     "execution_count": 46,
     "metadata": {},
     "output_type": "execute_result"
    }
   ],
   "execution_count": 46
  },
  {
   "metadata": {
    "ExecuteTime": {
     "end_time": "2025-03-25T10:19:37.576038Z",
     "start_time": "2025-03-25T10:19:37.572250Z"
    }
   },
   "cell_type": "code",
   "source": [
    "# Split the dataframes into different ones\n",
    "age_train = age_dev[age_dev['split'] == 'train']\n",
    "age_validation = age_dev[age_dev['split'] == 'validation']"
   ],
   "id": "b084f3afc253edd9",
   "outputs": [],
   "execution_count": 47
  },
  {
   "metadata": {
    "ExecuteTime": {
     "end_time": "2025-03-25T10:19:37.641726Z",
     "start_time": "2025-03-25T10:19:37.635815Z"
    }
   },
   "cell_type": "code",
   "source": [
    "# Remove the split column\n",
    "age_train = age_train.drop(columns=['split'])\n",
    "age_validation = age_validation.drop(columns=['split'])\n",
    "age_train.head()"
   ],
   "id": "338b8902bf43a307",
   "outputs": [
    {
     "data": {
      "text/plain": [
       "             VideoName    YouTubeID  AgeGroup\n",
       "0  --Ymqszjv54.001.mp4  --Ymqszjv54         5\n",
       "1  --Ymqszjv54.003.mp4  --Ymqszjv54         5\n",
       "2  --Ymqszjv54.004.mp4  --Ymqszjv54         5\n",
       "3  --Ymqszjv54.005.mp4  --Ymqszjv54         5\n",
       "4  -2qsCrkXdWs.001.mp4  -2qsCrkXdWs         2"
      ],
      "text/html": [
       "<div>\n",
       "<style scoped>\n",
       "    .dataframe tbody tr th:only-of-type {\n",
       "        vertical-align: middle;\n",
       "    }\n",
       "\n",
       "    .dataframe tbody tr th {\n",
       "        vertical-align: top;\n",
       "    }\n",
       "\n",
       "    .dataframe thead th {\n",
       "        text-align: right;\n",
       "    }\n",
       "</style>\n",
       "<table border=\"1\" class=\"dataframe\">\n",
       "  <thead>\n",
       "    <tr style=\"text-align: right;\">\n",
       "      <th></th>\n",
       "      <th>VideoName</th>\n",
       "      <th>YouTubeID</th>\n",
       "      <th>AgeGroup</th>\n",
       "    </tr>\n",
       "  </thead>\n",
       "  <tbody>\n",
       "    <tr>\n",
       "      <th>0</th>\n",
       "      <td>--Ymqszjv54.001.mp4</td>\n",
       "      <td>--Ymqszjv54</td>\n",
       "      <td>5</td>\n",
       "    </tr>\n",
       "    <tr>\n",
       "      <th>1</th>\n",
       "      <td>--Ymqszjv54.003.mp4</td>\n",
       "      <td>--Ymqszjv54</td>\n",
       "      <td>5</td>\n",
       "    </tr>\n",
       "    <tr>\n",
       "      <th>2</th>\n",
       "      <td>--Ymqszjv54.004.mp4</td>\n",
       "      <td>--Ymqszjv54</td>\n",
       "      <td>5</td>\n",
       "    </tr>\n",
       "    <tr>\n",
       "      <th>3</th>\n",
       "      <td>--Ymqszjv54.005.mp4</td>\n",
       "      <td>--Ymqszjv54</td>\n",
       "      <td>5</td>\n",
       "    </tr>\n",
       "    <tr>\n",
       "      <th>4</th>\n",
       "      <td>-2qsCrkXdWs.001.mp4</td>\n",
       "      <td>-2qsCrkXdWs</td>\n",
       "      <td>2</td>\n",
       "    </tr>\n",
       "  </tbody>\n",
       "</table>\n",
       "</div>"
      ]
     },
     "execution_count": 48,
     "metadata": {},
     "output_type": "execute_result"
    }
   ],
   "execution_count": 48
  },
  {
   "metadata": {
    "ExecuteTime": {
     "end_time": "2025-03-25T10:19:40.476894Z",
     "start_time": "2025-03-25T10:19:40.165438Z"
    }
   },
   "cell_type": "code",
   "source": [
    "# Function to add transcriptions to a dataframe\n",
    "def add_transcriptions(df, transcriptions_dict):\n",
    "    # Create a new column initialized with empty strings\n",
    "    df['transcription'] = ''\n",
    "\n",
    "    # Loop through each row in the dataframe\n",
    "    for idx, row in df.iterrows():\n",
    "        video_name = row['VideoName']\n",
    "        # Check if the video name exists in the transcriptions dictionary\n",
    "        if video_name in transcriptions_dict:\n",
    "            df.at[idx, 'transcription'] = transcriptions_dict[video_name]\n",
    "        else:\n",
    "\t        print(f\"{video_name} not in transcriptions_dict\")\n",
    "    return df\n",
    "\n",
    "# Add transcriptions to each dataframe\n",
    "age_train = add_transcriptions(age_train, transcriptions_train)\n",
    "age_validation = add_transcriptions(age_validation, transcriptions_validation)\n",
    "age_test = add_transcriptions(age_test, transcriptions_test)\n",
    "\n",
    "# Check if transcriptions were added\n",
    "print(f\"Train transcriptions added: {age_train['transcription'].notna().sum()}/{len(age_train)}\")\n",
    "print(f\"Validation transcriptions added: {age_validation['transcription'].notna().sum()}/{len(age_validation)}\")\n",
    "print(f\"Test transcriptions added: {age_test['transcription'].notna().sum()}/{len(age_test)}\")"
   ],
   "id": "d5a5dd54c70fb74",
   "outputs": [
    {
     "name": "stdout",
     "output_type": "stream",
     "text": [
      "Train transcriptions added: 6000/6000\n",
      "Validation transcriptions added: 2000/2000\n",
      "Test transcriptions added: 2000/2000\n"
     ]
    }
   ],
   "execution_count": 49
  },
  {
   "metadata": {
    "ExecuteTime": {
     "end_time": "2025-03-25T10:19:43.160012Z",
     "start_time": "2025-03-25T10:19:43.155770Z"
    }
   },
   "cell_type": "code",
   "source": "age_train.head()",
   "id": "71f23729b2f99006",
   "outputs": [
    {
     "data": {
      "text/plain": [
       "             VideoName    YouTubeID  AgeGroup  \\\n",
       "0  --Ymqszjv54.001.mp4  --Ymqszjv54         5   \n",
       "1  --Ymqszjv54.003.mp4  --Ymqszjv54         5   \n",
       "2  --Ymqszjv54.004.mp4  --Ymqszjv54         5   \n",
       "3  --Ymqszjv54.005.mp4  --Ymqszjv54         5   \n",
       "4  -2qsCrkXdWs.001.mp4  -2qsCrkXdWs         2   \n",
       "\n",
       "                                       transcription  \n",
       "0  I like Tabasco sauce. I like Louisiana Hot Sau...  \n",
       "1  Lot more things there. Then the menus are a lo...  \n",
       "2  There you go and red. See? [yelling 00:00:04]....  \n",
       "3  This doesn't have a name on it. This is from O...  \n",
       "4  I'm thinking with how much time and energy I'm...  "
      ],
      "text/html": [
       "<div>\n",
       "<style scoped>\n",
       "    .dataframe tbody tr th:only-of-type {\n",
       "        vertical-align: middle;\n",
       "    }\n",
       "\n",
       "    .dataframe tbody tr th {\n",
       "        vertical-align: top;\n",
       "    }\n",
       "\n",
       "    .dataframe thead th {\n",
       "        text-align: right;\n",
       "    }\n",
       "</style>\n",
       "<table border=\"1\" class=\"dataframe\">\n",
       "  <thead>\n",
       "    <tr style=\"text-align: right;\">\n",
       "      <th></th>\n",
       "      <th>VideoName</th>\n",
       "      <th>YouTubeID</th>\n",
       "      <th>AgeGroup</th>\n",
       "      <th>transcription</th>\n",
       "    </tr>\n",
       "  </thead>\n",
       "  <tbody>\n",
       "    <tr>\n",
       "      <th>0</th>\n",
       "      <td>--Ymqszjv54.001.mp4</td>\n",
       "      <td>--Ymqszjv54</td>\n",
       "      <td>5</td>\n",
       "      <td>I like Tabasco sauce. I like Louisiana Hot Sau...</td>\n",
       "    </tr>\n",
       "    <tr>\n",
       "      <th>1</th>\n",
       "      <td>--Ymqszjv54.003.mp4</td>\n",
       "      <td>--Ymqszjv54</td>\n",
       "      <td>5</td>\n",
       "      <td>Lot more things there. Then the menus are a lo...</td>\n",
       "    </tr>\n",
       "    <tr>\n",
       "      <th>2</th>\n",
       "      <td>--Ymqszjv54.004.mp4</td>\n",
       "      <td>--Ymqszjv54</td>\n",
       "      <td>5</td>\n",
       "      <td>There you go and red. See? [yelling 00:00:04]....</td>\n",
       "    </tr>\n",
       "    <tr>\n",
       "      <th>3</th>\n",
       "      <td>--Ymqszjv54.005.mp4</td>\n",
       "      <td>--Ymqszjv54</td>\n",
       "      <td>5</td>\n",
       "      <td>This doesn't have a name on it. This is from O...</td>\n",
       "    </tr>\n",
       "    <tr>\n",
       "      <th>4</th>\n",
       "      <td>-2qsCrkXdWs.001.mp4</td>\n",
       "      <td>-2qsCrkXdWs</td>\n",
       "      <td>2</td>\n",
       "      <td>I'm thinking with how much time and energy I'm...</td>\n",
       "    </tr>\n",
       "  </tbody>\n",
       "</table>\n",
       "</div>"
      ]
     },
     "execution_count": 50,
     "metadata": {},
     "output_type": "execute_result"
    }
   ],
   "execution_count": 50
  },
  {
   "metadata": {},
   "cell_type": "markdown",
   "source": "## 4. Mapping column names",
   "id": "90fb82d4fbc2ebf6"
  },
  {
   "metadata": {},
   "cell_type": "markdown",
   "source": "We will rename the columns to match the ones in the metadata file for Hugging Face:",
   "id": "771d278b9d2b6256"
  },
  {
   "metadata": {
    "ExecuteTime": {
     "end_time": "2025-03-25T10:19:47.116679Z",
     "start_time": "2025-03-25T10:19:47.106584Z"
    }
   },
   "cell_type": "code",
   "source": [
    "rename_mapping = {\n",
    "\t'VideoName': 'file_name',\n",
    "\t'YouTubeID': 'video_id',\n",
    "    'AgeGroup': 'age_group'\n",
    "}\n",
    "\n",
    "age_train.rename(columns=rename_mapping, inplace=True)\n",
    "age_validation.rename(columns=rename_mapping, inplace=True)\n",
    "age_test.rename(columns=rename_mapping, inplace=True)\n",
    "age_train.head()"
   ],
   "id": "c4eeba17b0226ce4",
   "outputs": [
    {
     "data": {
      "text/plain": [
       "             file_name     video_id  age_group  \\\n",
       "0  --Ymqszjv54.001.mp4  --Ymqszjv54          5   \n",
       "1  --Ymqszjv54.003.mp4  --Ymqszjv54          5   \n",
       "2  --Ymqszjv54.004.mp4  --Ymqszjv54          5   \n",
       "3  --Ymqszjv54.005.mp4  --Ymqszjv54          5   \n",
       "4  -2qsCrkXdWs.001.mp4  -2qsCrkXdWs          2   \n",
       "\n",
       "                                       transcription  \n",
       "0  I like Tabasco sauce. I like Louisiana Hot Sau...  \n",
       "1  Lot more things there. Then the menus are a lo...  \n",
       "2  There you go and red. See? [yelling 00:00:04]....  \n",
       "3  This doesn't have a name on it. This is from O...  \n",
       "4  I'm thinking with how much time and energy I'm...  "
      ],
      "text/html": [
       "<div>\n",
       "<style scoped>\n",
       "    .dataframe tbody tr th:only-of-type {\n",
       "        vertical-align: middle;\n",
       "    }\n",
       "\n",
       "    .dataframe tbody tr th {\n",
       "        vertical-align: top;\n",
       "    }\n",
       "\n",
       "    .dataframe thead th {\n",
       "        text-align: right;\n",
       "    }\n",
       "</style>\n",
       "<table border=\"1\" class=\"dataframe\">\n",
       "  <thead>\n",
       "    <tr style=\"text-align: right;\">\n",
       "      <th></th>\n",
       "      <th>file_name</th>\n",
       "      <th>video_id</th>\n",
       "      <th>age_group</th>\n",
       "      <th>transcription</th>\n",
       "    </tr>\n",
       "  </thead>\n",
       "  <tbody>\n",
       "    <tr>\n",
       "      <th>0</th>\n",
       "      <td>--Ymqszjv54.001.mp4</td>\n",
       "      <td>--Ymqszjv54</td>\n",
       "      <td>5</td>\n",
       "      <td>I like Tabasco sauce. I like Louisiana Hot Sau...</td>\n",
       "    </tr>\n",
       "    <tr>\n",
       "      <th>1</th>\n",
       "      <td>--Ymqszjv54.003.mp4</td>\n",
       "      <td>--Ymqszjv54</td>\n",
       "      <td>5</td>\n",
       "      <td>Lot more things there. Then the menus are a lo...</td>\n",
       "    </tr>\n",
       "    <tr>\n",
       "      <th>2</th>\n",
       "      <td>--Ymqszjv54.004.mp4</td>\n",
       "      <td>--Ymqszjv54</td>\n",
       "      <td>5</td>\n",
       "      <td>There you go and red. See? [yelling 00:00:04]....</td>\n",
       "    </tr>\n",
       "    <tr>\n",
       "      <th>3</th>\n",
       "      <td>--Ymqszjv54.005.mp4</td>\n",
       "      <td>--Ymqszjv54</td>\n",
       "      <td>5</td>\n",
       "      <td>This doesn't have a name on it. This is from O...</td>\n",
       "    </tr>\n",
       "    <tr>\n",
       "      <th>4</th>\n",
       "      <td>-2qsCrkXdWs.001.mp4</td>\n",
       "      <td>-2qsCrkXdWs</td>\n",
       "      <td>2</td>\n",
       "      <td>I'm thinking with how much time and energy I'm...</td>\n",
       "    </tr>\n",
       "  </tbody>\n",
       "</table>\n",
       "</div>"
      ]
     },
     "execution_count": 51,
     "metadata": {},
     "output_type": "execute_result"
    }
   ],
   "execution_count": 51
  },
  {
   "metadata": {},
   "cell_type": "markdown",
   "source": "Finally, let's save the dataframes to csv files:",
   "id": "a430e5cb1001d8cc"
  },
  {
   "metadata": {
    "ExecuteTime": {
     "end_time": "2025-03-25T10:16:00.628141Z",
     "start_time": "2025-03-25T10:16:00.567703Z"
    }
   },
   "cell_type": "code",
   "source": [
    "age_train.to_csv(\"/home/yeray142/Documents/projects/multimodal-exercise/data/dataset/train/metadata.csv\", index=False)\n",
    "age_validation.to_csv(\"/home/yeray142/Documents/projects/multimodal-exercise/data/dataset/validation/metadata.csv\", index=False)\n",
    "age_test.to_csv(\"/home/yeray142/Documents/projects/multimodal-exercise/data/dataset/test/metadata.csv\", index=False)"
   ],
   "id": "6e8e3770d69c2a2",
   "outputs": [],
   "execution_count": 33
  },
  {
   "metadata": {},
   "cell_type": "markdown",
   "source": "## 5. Push to Hugging Face Hub",
   "id": "80a013e1fafd0050"
  },
  {
   "metadata": {
    "ExecuteTime": {
     "end_time": "2025-03-25T10:16:32.465035Z",
     "start_time": "2025-03-25T10:16:17.878265Z"
    }
   },
   "cell_type": "code",
   "source": [
    "from datasets import load_dataset\n",
    "\n",
    "dataset = load_dataset(\"videofolder\", data_dir=\"/home/yeray142/Documents/projects/multimodal-exercise/data/dataset\")"
   ],
   "id": "3102e942d436fb2f",
   "outputs": [
    {
     "data": {
      "text/plain": [
       "Resolving data files:   0%|          | 0/6001 [00:00<?, ?it/s]"
      ],
      "application/vnd.jupyter.widget-view+json": {
       "version_major": 2,
       "version_minor": 0,
       "model_id": "d7217fbb47864b43b29f8432f0d0e931"
      }
     },
     "metadata": {},
     "output_type": "display_data"
    },
    {
     "data": {
      "text/plain": [
       "Resolving data files:   0%|          | 0/2001 [00:00<?, ?it/s]"
      ],
      "application/vnd.jupyter.widget-view+json": {
       "version_major": 2,
       "version_minor": 0,
       "model_id": "3d6ea426a93f4556bffa818c07b6fa4a"
      }
     },
     "metadata": {},
     "output_type": "display_data"
    },
    {
     "data": {
      "text/plain": [
       "Resolving data files:   0%|          | 0/2001 [00:00<?, ?it/s]"
      ],
      "application/vnd.jupyter.widget-view+json": {
       "version_major": 2,
       "version_minor": 0,
       "model_id": "85a664a6b5314083b207ec4ad34fff52"
      }
     },
     "metadata": {},
     "output_type": "display_data"
    },
    {
     "data": {
      "text/plain": [
       "Downloading data:   0%|          | 0/6001 [00:00<?, ?files/s]"
      ],
      "application/vnd.jupyter.widget-view+json": {
       "version_major": 2,
       "version_minor": 0,
       "model_id": "9eecc0effb2f4ef2a27a9ba20e30776d"
      }
     },
     "metadata": {},
     "output_type": "display_data"
    },
    {
     "data": {
      "text/plain": [
       "Downloading data:   0%|          | 0/2001 [00:00<?, ?files/s]"
      ],
      "application/vnd.jupyter.widget-view+json": {
       "version_major": 2,
       "version_minor": 0,
       "model_id": "a42a179d3b3c41abab6560e61971fb2a"
      }
     },
     "metadata": {},
     "output_type": "display_data"
    },
    {
     "data": {
      "text/plain": [
       "Downloading data:   0%|          | 0/2001 [00:00<?, ?files/s]"
      ],
      "application/vnd.jupyter.widget-view+json": {
       "version_major": 2,
       "version_minor": 0,
       "model_id": "1e4cb75e43284863a875f280d43e2bd6"
      }
     },
     "metadata": {},
     "output_type": "display_data"
    },
    {
     "data": {
      "text/plain": [
       "Generating train split: 0 examples [00:00, ? examples/s]"
      ],
      "application/vnd.jupyter.widget-view+json": {
       "version_major": 2,
       "version_minor": 0,
       "model_id": "ddb4f0c50d2846cbae4806f16b9b3d24"
      }
     },
     "metadata": {},
     "output_type": "display_data"
    },
    {
     "data": {
      "text/plain": [
       "Generating validation split: 0 examples [00:00, ? examples/s]"
      ],
      "application/vnd.jupyter.widget-view+json": {
       "version_major": 2,
       "version_minor": 0,
       "model_id": "4ab2f93d57484a3ebfa8bacd18359367"
      }
     },
     "metadata": {},
     "output_type": "display_data"
    },
    {
     "data": {
      "text/plain": [
       "Generating test split: 0 examples [00:00, ? examples/s]"
      ],
      "application/vnd.jupyter.widget-view+json": {
       "version_major": 2,
       "version_minor": 0,
       "model_id": "64e8ebac800f4a64b5bab3d2d7b2b65b"
      }
     },
     "metadata": {},
     "output_type": "display_data"
    }
   ],
   "execution_count": 34
  },
  {
   "metadata": {
    "ExecuteTime": {
     "end_time": "2025-03-25T10:16:36.169980Z",
     "start_time": "2025-03-25T10:16:36.166692Z"
    }
   },
   "cell_type": "code",
   "source": "dataset",
   "id": "c4e7b6d4fa9c9eab",
   "outputs": [
    {
     "data": {
      "text/plain": [
       "DatasetDict({\n",
       "    train: Dataset({\n",
       "        features: ['video', 'video_id', 'age_group', 'transcription'],\n",
       "        num_rows: 6000\n",
       "    })\n",
       "    validation: Dataset({\n",
       "        features: ['video', 'video_id', 'age_group', 'transcription'],\n",
       "        num_rows: 2000\n",
       "    })\n",
       "    test: Dataset({\n",
       "        features: ['video', 'video_id', 'age_group', 'transcription'],\n",
       "        num_rows: 2000\n",
       "    })\n",
       "})"
      ]
     },
     "execution_count": 35,
     "metadata": {},
     "output_type": "execute_result"
    }
   ],
   "execution_count": 35
  },
  {
   "metadata": {
    "ExecuteTime": {
     "end_time": "2025-03-25T10:16:38.234001Z",
     "start_time": "2025-03-25T10:16:38.221376Z"
    }
   },
   "cell_type": "code",
   "source": "dataset['train'][0]['video']",
   "id": "52c1f3daa8442a0b",
   "outputs": [
    {
     "data": {
      "text/plain": [
       "<torchvision.io.video_reader.VideoReader at 0x7db38324e3f0>"
      ]
     },
     "execution_count": 36,
     "metadata": {},
     "output_type": "execute_result"
    }
   ],
   "execution_count": 36
  },
  {
   "metadata": {
    "ExecuteTime": {
     "end_time": "2025-03-25T10:16:53.405997Z",
     "start_time": "2025-03-25T10:16:39.142341Z"
    }
   },
   "cell_type": "code",
   "source": [
    "from huggingface_hub import HfApi\n",
    "api = HfApi()\n",
    "\n",
    "api.upload_large_folder(\n",
    "    folder_path=\"/home/yeray142/Documents/projects/multimodal-exercise/data/dataset\",\n",
    "    repo_id=\"yeray142/first-impressions-v2\",\n",
    "    repo_type=\"dataset\",\n",
    ")"
   ],
   "id": "50e6c24a6afe143b",
   "outputs": [
    {
     "data": {
      "text/plain": [
       "Recovering from metadata files:   0%|          | 0/10003 [00:00<?, ?it/s]"
      ],
      "application/vnd.jupyter.widget-view+json": {
       "version_major": 2,
       "version_minor": 0,
       "model_id": "5caa09e846eb4a80b56ce35bde3146f5"
      }
     },
     "metadata": {},
     "output_type": "display_data"
    },
    {
     "name": "stdout",
     "output_type": "stream",
     "text": [
      "\n",
      "\n",
      "\n",
      "---------- 2025-03-25 11:16:43 (0:00:00) ----------\n",
      "Files:   hashed 10002/10003 (29.4G/29.5G) | pre-uploaded: 10000/10000 (29.4G/29.5G) (+3 unsure) | committed: 10000/10003 (29.4G/29.5G) | ignored: 0\n",
      "Workers: hashing: 1 | get upload mode: 2 | pre-uploading: 0 | committing: 0 | waiting: 11\n",
      "---------------------------------------------------\n"
     ]
    }
   ],
   "execution_count": 37
  }
 ],
 "metadata": {
  "kernelspec": {
   "display_name": "Python 3",
   "language": "python",
   "name": "python3"
  },
  "language_info": {
   "codemirror_mode": {
    "name": "ipython",
    "version": 2
   },
   "file_extension": ".py",
   "mimetype": "text/x-python",
   "name": "python",
   "nbconvert_exporter": "python",
   "pygments_lexer": "ipython2",
   "version": "2.7.6"
  }
 },
 "nbformat": 4,
 "nbformat_minor": 5
}
