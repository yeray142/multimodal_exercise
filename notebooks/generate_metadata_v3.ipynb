{
 "cells": [
  {
   "metadata": {},
   "cell_type": "markdown",
   "source": "## 1. Importing libraries",
   "id": "ed0565bfef6ba451"
  },
  {
   "metadata": {
    "ExecuteTime": {
     "end_time": "2025-03-26T16:23:39.301088Z",
     "start_time": "2025-03-26T16:23:39.299063Z"
    }
   },
   "cell_type": "code",
   "source": [
    "import os\n",
    "import pandas as pd\n",
    "import pickle\n",
    "\n",
    "from PIL.ImImagePlugin import split\n",
    "\n",
    "DATA_FOLDER = \"/home/yeray142/Documents/projects/multimodal-exercise/data/first_Impressions_v3_multimodal\"\n",
    "# Get data from the folders\n",
    "OUT_DATA_FOLDER = \"/home/yeray142/Documents/projects/multimodal-exercise/data/dataset_v3\""
   ],
   "id": "27d2666d60cda65d",
   "outputs": [],
   "execution_count": 20
  },
  {
   "metadata": {},
   "cell_type": "markdown",
   "source": "## 2. Reading data",
   "id": "dd5ac43e56f8f2b3"
  },
  {
   "cell_type": "code",
   "id": "initial_id",
   "metadata": {
    "collapsed": true,
    "ExecuteTime": {
     "end_time": "2025-03-26T16:23:39.354298Z",
     "start_time": "2025-03-26T16:23:39.343597Z"
    }
   },
   "source": [
    "age_test = pd.read_csv(os.path.join(DATA_FOLDER, \"test_set_age_labels.csv\"))\n",
    "age_train = pd.read_csv(os.path.join(DATA_FOLDER, \"train_set_age_labels.csv\"))\n",
    "age_val = pd.read_csv(os.path.join(DATA_FOLDER, \"valid_set_age_labels.csv\"))"
   ],
   "outputs": [],
   "execution_count": 21
  },
  {
   "metadata": {
    "ExecuteTime": {
     "end_time": "2025-03-26T16:23:39.396238Z",
     "start_time": "2025-03-26T16:23:39.391840Z"
    }
   },
   "cell_type": "code",
   "source": "age_train.head()",
   "id": "fa9d816237f5bacf",
   "outputs": [
    {
     "data": {
      "text/plain": [
       "             VideoName       UserID  AgeGroup  Gender  Ethnicity\n",
       "0  YFm-8VGsUGg.004.mp4  YFm-8VGsUGg         1       2          2\n",
       "1  -2qsCrkXdWs.001.mp4  -2qsCrkXdWs         1       1          2\n",
       "2  rW7b48Dy_80.000.mp4  rW7b48Dy_80         1       2          2\n",
       "3  1zpucNpIDk8.000.mp4  1zpucNpIDk8         1       2          3\n",
       "4  2KSBoJZMcMU.000.mp4  2KSBoJZMcMU         1       1          2"
      ],
      "text/html": [
       "<div>\n",
       "<style scoped>\n",
       "    .dataframe tbody tr th:only-of-type {\n",
       "        vertical-align: middle;\n",
       "    }\n",
       "\n",
       "    .dataframe tbody tr th {\n",
       "        vertical-align: top;\n",
       "    }\n",
       "\n",
       "    .dataframe thead th {\n",
       "        text-align: right;\n",
       "    }\n",
       "</style>\n",
       "<table border=\"1\" class=\"dataframe\">\n",
       "  <thead>\n",
       "    <tr style=\"text-align: right;\">\n",
       "      <th></th>\n",
       "      <th>VideoName</th>\n",
       "      <th>UserID</th>\n",
       "      <th>AgeGroup</th>\n",
       "      <th>Gender</th>\n",
       "      <th>Ethnicity</th>\n",
       "    </tr>\n",
       "  </thead>\n",
       "  <tbody>\n",
       "    <tr>\n",
       "      <th>0</th>\n",
       "      <td>YFm-8VGsUGg.004.mp4</td>\n",
       "      <td>YFm-8VGsUGg</td>\n",
       "      <td>1</td>\n",
       "      <td>2</td>\n",
       "      <td>2</td>\n",
       "    </tr>\n",
       "    <tr>\n",
       "      <th>1</th>\n",
       "      <td>-2qsCrkXdWs.001.mp4</td>\n",
       "      <td>-2qsCrkXdWs</td>\n",
       "      <td>1</td>\n",
       "      <td>1</td>\n",
       "      <td>2</td>\n",
       "    </tr>\n",
       "    <tr>\n",
       "      <th>2</th>\n",
       "      <td>rW7b48Dy_80.000.mp4</td>\n",
       "      <td>rW7b48Dy_80</td>\n",
       "      <td>1</td>\n",
       "      <td>2</td>\n",
       "      <td>2</td>\n",
       "    </tr>\n",
       "    <tr>\n",
       "      <th>3</th>\n",
       "      <td>1zpucNpIDk8.000.mp4</td>\n",
       "      <td>1zpucNpIDk8</td>\n",
       "      <td>1</td>\n",
       "      <td>2</td>\n",
       "      <td>3</td>\n",
       "    </tr>\n",
       "    <tr>\n",
       "      <th>4</th>\n",
       "      <td>2KSBoJZMcMU.000.mp4</td>\n",
       "      <td>2KSBoJZMcMU</td>\n",
       "      <td>1</td>\n",
       "      <td>1</td>\n",
       "      <td>2</td>\n",
       "    </tr>\n",
       "  </tbody>\n",
       "</table>\n",
       "</div>"
      ]
     },
     "execution_count": 22,
     "metadata": {},
     "output_type": "execute_result"
    }
   ],
   "execution_count": 22
  },
  {
   "metadata": {
    "ExecuteTime": {
     "end_time": "2025-03-26T16:23:39.467580Z",
     "start_time": "2025-03-26T16:23:39.459192Z"
    }
   },
   "cell_type": "code",
   "source": [
    "def remove_mp4_extension(video_name):\n",
    "    # Only remove .mp4 if it appears at the end of the string\n",
    "    if video_name.endswith('.mp4'):\n",
    "        return video_name[:-4]\n",
    "    return video_name\n",
    "\n",
    "# Apply the function to the VideoName column\n",
    "age_train['VideoName'] = age_train['VideoName'].apply(remove_mp4_extension)\n",
    "age_val['VideoName'] = age_val['VideoName'].apply(remove_mp4_extension)\n",
    "age_test['VideoName'] = age_test['VideoName'].apply(remove_mp4_extension)\n",
    "\n",
    "# Verify the changes\n",
    "age_train['VideoName'].head()"
   ],
   "id": "625fd44f1347ce57",
   "outputs": [
    {
     "data": {
      "text/plain": [
       "0    YFm-8VGsUGg.004\n",
       "1    -2qsCrkXdWs.001\n",
       "2    rW7b48Dy_80.000\n",
       "3    1zpucNpIDk8.000\n",
       "4    2KSBoJZMcMU.000\n",
       "Name: VideoName, dtype: object"
      ]
     },
     "execution_count": 23,
     "metadata": {},
     "output_type": "execute_result"
    }
   ],
   "execution_count": 23
  },
  {
   "metadata": {
    "ExecuteTime": {
     "end_time": "2025-03-26T16:23:39.521545Z",
     "start_time": "2025-03-26T16:23:39.519277Z"
    }
   },
   "cell_type": "code",
   "source": [
    "test_videos = os.path.join(DATA_FOLDER, 'test')\n",
    "train_videos = os.path.join(DATA_FOLDER, 'train')\n",
    "validation_videos = os.path.join(DATA_FOLDER, 'valid')"
   ],
   "id": "c73d3de2ac3a0240",
   "outputs": [],
   "execution_count": 24
  },
  {
   "metadata": {},
   "cell_type": "markdown",
   "source": "The following function will be used to get the video names from the folders:",
   "id": "bf1479185e542e52"
  },
  {
   "metadata": {
    "ExecuteTime": {
     "end_time": "2025-03-26T16:23:46.165956Z",
     "start_time": "2025-03-26T16:23:39.637891Z"
    }
   },
   "cell_type": "code",
   "source": [
    "import shutil\n",
    "\n",
    "\n",
    "# Function to extract the video name from the file path\n",
    "def extract_video_name(file_path):\n",
    "    # Get the filename without extension\n",
    "    return os.path.splitext(os.path.basename(file_path))[0]\n",
    "\n",
    "def get_data(src_folder, dest_folder):\n",
    "    # Initialize lists to store data for the dataframe\n",
    "    data = []\n",
    "\n",
    "    # Walk through the source directory\n",
    "    for root, _, files in os.walk(src_folder):\n",
    "        age_group = os.path.basename(root)\n",
    "\n",
    "        for file in files:\n",
    "            file_path = os.path.join(root, file)\n",
    "            video_name = extract_video_name(file)\n",
    "            extension = os.path.splitext(file)[1].lower()\n",
    "\n",
    "            # Copy jpg and wav files to destination with new names\n",
    "            if extension in ['.jpg', '.wav']:\n",
    "                dest_file = os.path.join(dest_folder, f\"{video_name}{extension}\")\n",
    "                shutil.copy2(file_path, dest_file)\n",
    "\n",
    "            # Load transcription from pickle files\n",
    "            if extension == '.pkl':\n",
    "                with open(file_path, 'rb') as f:\n",
    "                    transcription = pickle.load(f)\n",
    "\n",
    "                # Add entry to our data list\n",
    "                data.append({\n",
    "                    'VideoName': video_name,\n",
    "                    'ImagePath': f\"{video_name}.jpg\",\n",
    "                    'AudioPath': f\"{video_name}.wav\",\n",
    "                    'Transcription': transcription,\n",
    "                    'AgeGroup': age_group\n",
    "                })\n",
    "    return data\n",
    "\n",
    "test_data = get_data(test_videos, os.path.join(OUT_DATA_FOLDER, 'test'))\n",
    "train_data = get_data(train_videos, os.path.join(OUT_DATA_FOLDER, 'train'))\n",
    "validation_data = get_data(validation_videos, os.path.join(OUT_DATA_FOLDER, 'validation'))"
   ],
   "id": "e70fbb6f625bf577",
   "outputs": [],
   "execution_count": 25
  },
  {
   "metadata": {},
   "cell_type": "markdown",
   "source": "Let's check that all videos in the folders are in the age_dev and age_test dataframes:",
   "id": "adde6fd0423bf409"
  },
  {
   "metadata": {
    "ExecuteTime": {
     "end_time": "2025-03-26T16:23:46.196687Z",
     "start_time": "2025-03-26T16:23:46.181377Z"
    }
   },
   "cell_type": "code",
   "source": [
    "def create_df(data, age_df):\n",
    "    # Create the dataframe\n",
    "    age_test_updated = pd.DataFrame(data)\n",
    "    if age_df is not None:\n",
    "\t    age_df = age_df.merge(\n",
    "            age_test_updated[['VideoName', 'ImagePath', 'AudioPath', 'Transcription']],\n",
    "            on='VideoName',\n",
    "            how='left'\n",
    "        )\n",
    "    else:\n",
    "        age_df = age_test_updated\n",
    "    return age_df\n",
    "\n",
    "age_test_updated = create_df(test_data, age_test)\n",
    "age_train_updated = create_df(train_data, age_train)\n",
    "age_validation_updated = create_df(validation_data, age_val)"
   ],
   "id": "7ffd33d5c6feeb91",
   "outputs": [],
   "execution_count": 26
  },
  {
   "metadata": {
    "ExecuteTime": {
     "end_time": "2025-03-26T16:23:46.230268Z",
     "start_time": "2025-03-26T16:23:46.225216Z"
    }
   },
   "cell_type": "code",
   "source": "age_train_updated.head()",
   "id": "626ca1a47903fe98",
   "outputs": [
    {
     "data": {
      "text/plain": [
       "         VideoName       UserID  AgeGroup  Gender  Ethnicity  \\\n",
       "0  YFm-8VGsUGg.004  YFm-8VGsUGg         1       2          2   \n",
       "1  -2qsCrkXdWs.001  -2qsCrkXdWs         1       1          2   \n",
       "2  rW7b48Dy_80.000  rW7b48Dy_80         1       2          2   \n",
       "3  1zpucNpIDk8.000  1zpucNpIDk8         1       2          3   \n",
       "4  2KSBoJZMcMU.000  2KSBoJZMcMU         1       1          2   \n",
       "\n",
       "             ImagePath            AudioPath  \\\n",
       "0  YFm-8VGsUGg.004.jpg  YFm-8VGsUGg.004.wav   \n",
       "1  -2qsCrkXdWs.001.jpg  -2qsCrkXdWs.001.wav   \n",
       "2  rW7b48Dy_80.000.jpg  rW7b48Dy_80.000.wav   \n",
       "3  1zpucNpIDk8.000.jpg  1zpucNpIDk8.000.wav   \n",
       "4  2KSBoJZMcMU.000.jpg  2KSBoJZMcMU.000.wav   \n",
       "\n",
       "                                       Transcription  \n",
       "0  ... occasions because whenever it gets to Chri...  \n",
       "1  I'm thinking with how much time and energy I'm...  \n",
       "2  ... Littlest Petshops no I don't. What do I fi...  \n",
       "3  -and eating fry. I love a good burger and chip...  \n",
       "4  Who they say they are. I'm not basing it off s...  "
      ],
      "text/html": [
       "<div>\n",
       "<style scoped>\n",
       "    .dataframe tbody tr th:only-of-type {\n",
       "        vertical-align: middle;\n",
       "    }\n",
       "\n",
       "    .dataframe tbody tr th {\n",
       "        vertical-align: top;\n",
       "    }\n",
       "\n",
       "    .dataframe thead th {\n",
       "        text-align: right;\n",
       "    }\n",
       "</style>\n",
       "<table border=\"1\" class=\"dataframe\">\n",
       "  <thead>\n",
       "    <tr style=\"text-align: right;\">\n",
       "      <th></th>\n",
       "      <th>VideoName</th>\n",
       "      <th>UserID</th>\n",
       "      <th>AgeGroup</th>\n",
       "      <th>Gender</th>\n",
       "      <th>Ethnicity</th>\n",
       "      <th>ImagePath</th>\n",
       "      <th>AudioPath</th>\n",
       "      <th>Transcription</th>\n",
       "    </tr>\n",
       "  </thead>\n",
       "  <tbody>\n",
       "    <tr>\n",
       "      <th>0</th>\n",
       "      <td>YFm-8VGsUGg.004</td>\n",
       "      <td>YFm-8VGsUGg</td>\n",
       "      <td>1</td>\n",
       "      <td>2</td>\n",
       "      <td>2</td>\n",
       "      <td>YFm-8VGsUGg.004.jpg</td>\n",
       "      <td>YFm-8VGsUGg.004.wav</td>\n",
       "      <td>... occasions because whenever it gets to Chri...</td>\n",
       "    </tr>\n",
       "    <tr>\n",
       "      <th>1</th>\n",
       "      <td>-2qsCrkXdWs.001</td>\n",
       "      <td>-2qsCrkXdWs</td>\n",
       "      <td>1</td>\n",
       "      <td>1</td>\n",
       "      <td>2</td>\n",
       "      <td>-2qsCrkXdWs.001.jpg</td>\n",
       "      <td>-2qsCrkXdWs.001.wav</td>\n",
       "      <td>I'm thinking with how much time and energy I'm...</td>\n",
       "    </tr>\n",
       "    <tr>\n",
       "      <th>2</th>\n",
       "      <td>rW7b48Dy_80.000</td>\n",
       "      <td>rW7b48Dy_80</td>\n",
       "      <td>1</td>\n",
       "      <td>2</td>\n",
       "      <td>2</td>\n",
       "      <td>rW7b48Dy_80.000.jpg</td>\n",
       "      <td>rW7b48Dy_80.000.wav</td>\n",
       "      <td>... Littlest Petshops no I don't. What do I fi...</td>\n",
       "    </tr>\n",
       "    <tr>\n",
       "      <th>3</th>\n",
       "      <td>1zpucNpIDk8.000</td>\n",
       "      <td>1zpucNpIDk8</td>\n",
       "      <td>1</td>\n",
       "      <td>2</td>\n",
       "      <td>3</td>\n",
       "      <td>1zpucNpIDk8.000.jpg</td>\n",
       "      <td>1zpucNpIDk8.000.wav</td>\n",
       "      <td>-and eating fry. I love a good burger and chip...</td>\n",
       "    </tr>\n",
       "    <tr>\n",
       "      <th>4</th>\n",
       "      <td>2KSBoJZMcMU.000</td>\n",
       "      <td>2KSBoJZMcMU</td>\n",
       "      <td>1</td>\n",
       "      <td>1</td>\n",
       "      <td>2</td>\n",
       "      <td>2KSBoJZMcMU.000.jpg</td>\n",
       "      <td>2KSBoJZMcMU.000.wav</td>\n",
       "      <td>Who they say they are. I'm not basing it off s...</td>\n",
       "    </tr>\n",
       "  </tbody>\n",
       "</table>\n",
       "</div>"
      ]
     },
     "execution_count": 27,
     "metadata": {},
     "output_type": "execute_result"
    }
   ],
   "execution_count": 27
  },
  {
   "metadata": {},
   "cell_type": "markdown",
   "source": "## 3. Mapping column names",
   "id": "90fb82d4fbc2ebf6"
  },
  {
   "metadata": {},
   "cell_type": "markdown",
   "source": "We will rename the columns to match the ones in the metadata file for Hugging Face:",
   "id": "771d278b9d2b6256"
  },
  {
   "metadata": {
    "ExecuteTime": {
     "end_time": "2025-03-26T16:23:46.322907Z",
     "start_time": "2025-03-26T16:23:46.317533Z"
    }
   },
   "cell_type": "code",
   "source": [
    "rename_mapping = {\n",
    "\t'ImagePath': 'image_file_name',\n",
    "\t'AudioPath': 'audio_file_name',\n",
    "    'Transcription': 'transcription',\n",
    "\t'AgeGroup': 'age_group',\n",
    "\t'Gender': \"gender\",\n",
    "\t'VideoName': \"video_name\",\n",
    "\t'Ethnicity': \"ethnicity\",\n",
    "\t'UserID': \"user_id\"\n",
    "}\n",
    "\n",
    "age_train_updated.rename(columns=rename_mapping, inplace=True)\n",
    "age_validation_updated.rename(columns=rename_mapping, inplace=True)\n",
    "age_test_updated.rename(columns=rename_mapping, inplace=True)\n",
    "age_train_updated.head()"
   ],
   "id": "c4eeba17b0226ce4",
   "outputs": [
    {
     "data": {
      "text/plain": [
       "        video_name      user_id  age_group  gender  ethnicity  \\\n",
       "0  YFm-8VGsUGg.004  YFm-8VGsUGg          1       2          2   \n",
       "1  -2qsCrkXdWs.001  -2qsCrkXdWs          1       1          2   \n",
       "2  rW7b48Dy_80.000  rW7b48Dy_80          1       2          2   \n",
       "3  1zpucNpIDk8.000  1zpucNpIDk8          1       2          3   \n",
       "4  2KSBoJZMcMU.000  2KSBoJZMcMU          1       1          2   \n",
       "\n",
       "       image_file_name      audio_file_name  \\\n",
       "0  YFm-8VGsUGg.004.jpg  YFm-8VGsUGg.004.wav   \n",
       "1  -2qsCrkXdWs.001.jpg  -2qsCrkXdWs.001.wav   \n",
       "2  rW7b48Dy_80.000.jpg  rW7b48Dy_80.000.wav   \n",
       "3  1zpucNpIDk8.000.jpg  1zpucNpIDk8.000.wav   \n",
       "4  2KSBoJZMcMU.000.jpg  2KSBoJZMcMU.000.wav   \n",
       "\n",
       "                                       transcription  \n",
       "0  ... occasions because whenever it gets to Chri...  \n",
       "1  I'm thinking with how much time and energy I'm...  \n",
       "2  ... Littlest Petshops no I don't. What do I fi...  \n",
       "3  -and eating fry. I love a good burger and chip...  \n",
       "4  Who they say they are. I'm not basing it off s...  "
      ],
      "text/html": [
       "<div>\n",
       "<style scoped>\n",
       "    .dataframe tbody tr th:only-of-type {\n",
       "        vertical-align: middle;\n",
       "    }\n",
       "\n",
       "    .dataframe tbody tr th {\n",
       "        vertical-align: top;\n",
       "    }\n",
       "\n",
       "    .dataframe thead th {\n",
       "        text-align: right;\n",
       "    }\n",
       "</style>\n",
       "<table border=\"1\" class=\"dataframe\">\n",
       "  <thead>\n",
       "    <tr style=\"text-align: right;\">\n",
       "      <th></th>\n",
       "      <th>video_name</th>\n",
       "      <th>user_id</th>\n",
       "      <th>age_group</th>\n",
       "      <th>gender</th>\n",
       "      <th>ethnicity</th>\n",
       "      <th>image_file_name</th>\n",
       "      <th>audio_file_name</th>\n",
       "      <th>transcription</th>\n",
       "    </tr>\n",
       "  </thead>\n",
       "  <tbody>\n",
       "    <tr>\n",
       "      <th>0</th>\n",
       "      <td>YFm-8VGsUGg.004</td>\n",
       "      <td>YFm-8VGsUGg</td>\n",
       "      <td>1</td>\n",
       "      <td>2</td>\n",
       "      <td>2</td>\n",
       "      <td>YFm-8VGsUGg.004.jpg</td>\n",
       "      <td>YFm-8VGsUGg.004.wav</td>\n",
       "      <td>... occasions because whenever it gets to Chri...</td>\n",
       "    </tr>\n",
       "    <tr>\n",
       "      <th>1</th>\n",
       "      <td>-2qsCrkXdWs.001</td>\n",
       "      <td>-2qsCrkXdWs</td>\n",
       "      <td>1</td>\n",
       "      <td>1</td>\n",
       "      <td>2</td>\n",
       "      <td>-2qsCrkXdWs.001.jpg</td>\n",
       "      <td>-2qsCrkXdWs.001.wav</td>\n",
       "      <td>I'm thinking with how much time and energy I'm...</td>\n",
       "    </tr>\n",
       "    <tr>\n",
       "      <th>2</th>\n",
       "      <td>rW7b48Dy_80.000</td>\n",
       "      <td>rW7b48Dy_80</td>\n",
       "      <td>1</td>\n",
       "      <td>2</td>\n",
       "      <td>2</td>\n",
       "      <td>rW7b48Dy_80.000.jpg</td>\n",
       "      <td>rW7b48Dy_80.000.wav</td>\n",
       "      <td>... Littlest Petshops no I don't. What do I fi...</td>\n",
       "    </tr>\n",
       "    <tr>\n",
       "      <th>3</th>\n",
       "      <td>1zpucNpIDk8.000</td>\n",
       "      <td>1zpucNpIDk8</td>\n",
       "      <td>1</td>\n",
       "      <td>2</td>\n",
       "      <td>3</td>\n",
       "      <td>1zpucNpIDk8.000.jpg</td>\n",
       "      <td>1zpucNpIDk8.000.wav</td>\n",
       "      <td>-and eating fry. I love a good burger and chip...</td>\n",
       "    </tr>\n",
       "    <tr>\n",
       "      <th>4</th>\n",
       "      <td>2KSBoJZMcMU.000</td>\n",
       "      <td>2KSBoJZMcMU</td>\n",
       "      <td>1</td>\n",
       "      <td>1</td>\n",
       "      <td>2</td>\n",
       "      <td>2KSBoJZMcMU.000.jpg</td>\n",
       "      <td>2KSBoJZMcMU.000.wav</td>\n",
       "      <td>Who they say they are. I'm not basing it off s...</td>\n",
       "    </tr>\n",
       "  </tbody>\n",
       "</table>\n",
       "</div>"
      ]
     },
     "execution_count": 28,
     "metadata": {},
     "output_type": "execute_result"
    }
   ],
   "execution_count": 28
  },
  {
   "metadata": {},
   "cell_type": "markdown",
   "source": "Finally, let's save the dataframes to csv files:",
   "id": "a430e5cb1001d8cc"
  },
  {
   "metadata": {
    "ExecuteTime": {
     "end_time": "2025-03-26T16:23:46.427623Z",
     "start_time": "2025-03-26T16:23:46.382105Z"
    }
   },
   "cell_type": "code",
   "source": [
    "age_train_updated.to_csv(f\"{OUT_DATA_FOLDER}/train/metadata.csv\", index=False)\n",
    "age_validation_updated.to_csv(f\"{OUT_DATA_FOLDER}/validation/metadata.csv\", index=False)\n",
    "age_test_updated.to_csv(f\"{OUT_DATA_FOLDER}/test/metadata.csv\", index=False)"
   ],
   "id": "6e8e3770d69c2a2",
   "outputs": [],
   "execution_count": 29
  },
  {
   "metadata": {},
   "cell_type": "markdown",
   "source": "## 5. Push to Hugging Face Hub",
   "id": "80a013e1fafd0050"
  },
  {
   "metadata": {
    "ExecuteTime": {
     "end_time": "2025-03-26T16:36:41.257989Z",
     "start_time": "2025-03-26T16:36:41.173475Z"
    }
   },
   "cell_type": "code",
   "source": [
    "from datasets import DatasetDict, Dataset, Audio, Image\n",
    "import pandas as pd\n",
    "import os\n",
    "\n",
    "data_dir = \"/home/yeray142/Documents/projects/multimodal-exercise/data/dataset_v3\"  # Path to your dataset root\n",
    "\n",
    "# Load splits (train/validation/test)\n",
    "splits = [\"train\", \"validation\", \"test\"]\n",
    "dataset_dict = DatasetDict()\n",
    "\n",
    "for split in splits:\n",
    "    # Read metadata.csv for the split\n",
    "    csv_path = os.path.join(data_dir, split, \"metadata.csv\")\n",
    "    df = pd.read_csv(csv_path)\n",
    "\n",
    "    # Add full paths to image/audio files\n",
    "    df[\"image_path\"] = df[\"image_file_name\"].apply(\n",
    "        lambda x: os.path.join(data_dir, split, x)\n",
    "    )\n",
    "    df[\"audio_path\"] = df[\"audio_file_name\"].apply(\n",
    "        lambda x: os.path.join(data_dir, split, x)\n",
    "    )\n",
    "\n",
    "    # Create a Dataset from the DataFrame\n",
    "    dataset = Dataset.from_pandas(df)\n",
    "    dataset_dict[split] = dataset\n",
    "\n",
    "# Cast columns to Image/Audio to auto-decode files\n",
    "dataset_dict = dataset_dict.cast_column(\"image_path\", Image())\n",
    "dataset_dict = dataset_dict.cast_column(\"audio_path\", Audio())"
   ],
   "id": "b24a529a0bd95040",
   "outputs": [],
   "execution_count": 50
  },
  {
   "metadata": {
    "ExecuteTime": {
     "end_time": "2025-03-26T16:38:32.037099Z",
     "start_time": "2025-03-26T16:38:32.028695Z"
    }
   },
   "cell_type": "code",
   "source": [
    "example = dataset_dict[\"train\"][0]\n",
    "\n",
    "# Audio (dict with array and sampling_rate)\n",
    "audio = example[\"audio_path\"]\n",
    "print(audio[\"array\"], audio[\"sampling_rate\"])\n",
    "\n",
    "example[\"image_path\"]"
   ],
   "id": "8126b8be288a93b4",
   "outputs": [
    {
     "name": "stdout",
     "output_type": "stream",
     "text": [
      "[ 6.07299805e-03 -6.10351562e-04  5.18798828e-03 ...  3.05175781e-05\n",
      "  0.00000000e+00  0.00000000e+00] 8000\n"
     ]
    },
    {
     "data": {
      "text/plain": [
       "<PIL.JpegImagePlugin.JpegImageFile image mode=RGB size=224x224>"
      ],
      "image/png": "[encoded data removed]",
      "image/jpeg": "[encoded data removed]"
     },
     "execution_count": 57,
     "metadata": {},
     "output_type": "execute_result"
    }
   ],
   "execution_count": 57
  },
  {
   "metadata": {
    "ExecuteTime": {
     "end_time": "2025-03-26T16:38:48.692981Z",
     "start_time": "2025-03-26T16:38:48.689504Z"
    }
   },
   "cell_type": "code",
   "source": "dataset_dict",
   "id": "c4e7b6d4fa9c9eab",
   "outputs": [
    {
     "data": {
      "text/plain": [
       "DatasetDict({\n",
       "    train: Dataset({\n",
       "        features: ['video_name', 'user_id', 'age_group', 'gender', 'ethnicity', 'image_file_name', 'audio_file_name', 'transcription', 'image_path', 'audio_path'],\n",
       "        num_rows: 6011\n",
       "    })\n",
       "    validation: Dataset({\n",
       "        features: ['video_name', 'user_id', 'age_group', 'gender', 'ethnicity', 'image_file_name', 'audio_file_name', 'transcription', 'image_path', 'audio_path'],\n",
       "        num_rows: 2019\n",
       "    })\n",
       "    test: Dataset({\n",
       "        features: ['video_name', 'user_id', 'age_group', 'gender', 'ethnicity', 'image_file_name', 'audio_file_name', 'transcription', 'image_path', 'audio_path'],\n",
       "        num_rows: 1975\n",
       "    })\n",
       "})"
      ]
     },
     "execution_count": 59,
     "metadata": {},
     "output_type": "execute_result"
    }
   ],
   "execution_count": 59
  },
  {
   "metadata": {
    "ExecuteTime": {
     "end_time": "2025-03-26T16:39:44.512665Z",
     "start_time": "2025-03-26T16:39:44.508167Z"
    }
   },
   "cell_type": "code",
   "source": "dataset_dict['validation'][0][\"audio_path\"]",
   "id": "52c1f3daa8442a0b",
   "outputs": [
    {
     "data": {
      "text/plain": [
       "{'path': '/home/yeray142/Documents/projects/multimodal-exercise/data/dataset_v3/validation/syAUKJMQWeo.001.wav',\n",
       " 'array': array([-3.43017578e-02, -3.75366211e-02, -2.57263184e-02, ...,\n",
       "        -9.15527344e-05, -1.22070312e-04, -1.52587891e-04]),\n",
       " 'sampling_rate': 8000}"
      ]
     },
     "execution_count": 62,
     "metadata": {},
     "output_type": "execute_result"
    }
   ],
   "execution_count": 62
  },
  {
   "metadata": {},
   "cell_type": "code",
   "source": [
    "from huggingface_hub import HfApi\n",
    "api = HfApi()\n",
    "\n",
    "api.upload_large_folder(\n",
    "    folder_path=\"/home/yeray142/Documents/projects/multimodal-exercise/data/dataset_v3\",\n",
    "    repo_id=\"yeray142/first-impressions-v3\",\n",
    "    repo_type=\"dataset\",\n",
    ")"
   ],
   "id": "50e6c24a6afe143b",
   "outputs": [],
   "execution_count": null
  },
  {
   "metadata": {
    "ExecuteTime": {
     "end_time": "2025-03-26T17:15:42.407797Z",
     "start_time": "2025-03-26T17:15:38.294292Z"
    }
   },
   "cell_type": "code",
   "source": [
    "from datasets import load_dataset\n",
    "\n",
    "# Specify the data_files parameter to explicitly define the paths for each split\n",
    "dataset = load_dataset(\n",
    "    \"yeray142/first-impressions-v3\"\n",
    ")"
   ],
   "id": "7fb04e1634a796c5",
   "outputs": [
    {
     "data": {
      "text/plain": [
       "Resolving data files:   0%|          | 0/9860 [00:00<?, ?it/s]"
      ],
      "application/vnd.jupyter.widget-view+json": {
       "version_major": 2,
       "version_minor": 0,
       "model_id": "d5aeb98ff46e4cf3ae575f559516b82d"
      }
     },
     "metadata": {},
     "output_type": "display_data"
    },
    {
     "data": {
      "text/plain": [
       "Resolving data files:   0%|          | 0/4039 [00:00<?, ?it/s]"
      ],
      "application/vnd.jupyter.widget-view+json": {
       "version_major": 2,
       "version_minor": 0,
       "model_id": "d75b6b8f9a4b4408b960be0d045db51f"
      }
     },
     "metadata": {},
     "output_type": "display_data"
    },
    {
     "data": {
      "text/plain": [
       "Resolving data files:   0%|          | 0/3951 [00:00<?, ?it/s]"
      ],
      "application/vnd.jupyter.widget-view+json": {
       "version_major": 2,
       "version_minor": 0,
       "model_id": "94b776ad9bca4bd587f42ededbd1310d"
      }
     },
     "metadata": {},
     "output_type": "display_data"
    },
    {
     "ename": "ValueError",
     "evalue": "Couldn't infer the same data file format for all splits. Got {NamedSplit('train'): ('imagefolder', {}), NamedSplit('validation'): ('audiofolder', {}), NamedSplit('test'): ('audiofolder', {})}",
     "output_type": "error",
     "traceback": [
      "\u001B[31m---------------------------------------------------------------------------\u001B[39m",
      "\u001B[31mValueError\u001B[39m                                Traceback (most recent call last)",
      "\u001B[36mCell\u001B[39m\u001B[36m \u001B[39m\u001B[32mIn[15]\u001B[39m\u001B[32m, line 4\u001B[39m\n\u001B[32m      1\u001B[39m \u001B[38;5;28;01mfrom\u001B[39;00m\u001B[38;5;250m \u001B[39m\u001B[34;01mdatasets\u001B[39;00m\u001B[38;5;250m \u001B[39m\u001B[38;5;28;01mimport\u001B[39;00m load_dataset\n\u001B[32m      3\u001B[39m \u001B[38;5;66;03m# Specify the data_files parameter to explicitly define the paths for each split\u001B[39;00m\n\u001B[32m----> \u001B[39m\u001B[32m4\u001B[39m dataset = \u001B[43mload_dataset\u001B[49m\u001B[43m(\u001B[49m\n\u001B[32m      5\u001B[39m \u001B[43m    \u001B[49m\u001B[33;43m\"\u001B[39;49m\u001B[33;43myeray142/first-impressions-v3\u001B[39;49m\u001B[33;43m\"\u001B[39;49m\n\u001B[32m      6\u001B[39m \u001B[43m)\u001B[49m\n",
      "\u001B[36mFile \u001B[39m\u001B[32m~/miniconda3/envs/mcv-c5-team1/lib/python3.12/site-packages/datasets/load.py:2061\u001B[39m, in \u001B[36mload_dataset\u001B[39m\u001B[34m(path, name, data_dir, data_files, split, cache_dir, features, download_config, download_mode, verification_mode, keep_in_memory, save_infos, revision, token, streaming, num_proc, storage_options, trust_remote_code, **config_kwargs)\u001B[39m\n\u001B[32m   2056\u001B[39m verification_mode = VerificationMode(\n\u001B[32m   2057\u001B[39m     (verification_mode \u001B[38;5;129;01mor\u001B[39;00m VerificationMode.BASIC_CHECKS) \u001B[38;5;28;01mif\u001B[39;00m \u001B[38;5;129;01mnot\u001B[39;00m save_infos \u001B[38;5;28;01melse\u001B[39;00m VerificationMode.ALL_CHECKS\n\u001B[32m   2058\u001B[39m )\n\u001B[32m   2060\u001B[39m \u001B[38;5;66;03m# Create a dataset builder\u001B[39;00m\n\u001B[32m-> \u001B[39m\u001B[32m2061\u001B[39m builder_instance = \u001B[43mload_dataset_builder\u001B[49m\u001B[43m(\u001B[49m\n\u001B[32m   2062\u001B[39m \u001B[43m    \u001B[49m\u001B[43mpath\u001B[49m\u001B[43m=\u001B[49m\u001B[43mpath\u001B[49m\u001B[43m,\u001B[49m\n\u001B[32m   2063\u001B[39m \u001B[43m    \u001B[49m\u001B[43mname\u001B[49m\u001B[43m=\u001B[49m\u001B[43mname\u001B[49m\u001B[43m,\u001B[49m\n\u001B[32m   2064\u001B[39m \u001B[43m    \u001B[49m\u001B[43mdata_dir\u001B[49m\u001B[43m=\u001B[49m\u001B[43mdata_dir\u001B[49m\u001B[43m,\u001B[49m\n\u001B[32m   2065\u001B[39m \u001B[43m    \u001B[49m\u001B[43mdata_files\u001B[49m\u001B[43m=\u001B[49m\u001B[43mdata_files\u001B[49m\u001B[43m,\u001B[49m\n\u001B[32m   2066\u001B[39m \u001B[43m    \u001B[49m\u001B[43mcache_dir\u001B[49m\u001B[43m=\u001B[49m\u001B[43mcache_dir\u001B[49m\u001B[43m,\u001B[49m\n\u001B[32m   2067\u001B[39m \u001B[43m    \u001B[49m\u001B[43mfeatures\u001B[49m\u001B[43m=\u001B[49m\u001B[43mfeatures\u001B[49m\u001B[43m,\u001B[49m\n\u001B[32m   2068\u001B[39m \u001B[43m    \u001B[49m\u001B[43mdownload_config\u001B[49m\u001B[43m=\u001B[49m\u001B[43mdownload_config\u001B[49m\u001B[43m,\u001B[49m\n\u001B[32m   2069\u001B[39m \u001B[43m    \u001B[49m\u001B[43mdownload_mode\u001B[49m\u001B[43m=\u001B[49m\u001B[43mdownload_mode\u001B[49m\u001B[43m,\u001B[49m\n\u001B[32m   2070\u001B[39m \u001B[43m    \u001B[49m\u001B[43mrevision\u001B[49m\u001B[43m=\u001B[49m\u001B[43mrevision\u001B[49m\u001B[43m,\u001B[49m\n\u001B[32m   2071\u001B[39m \u001B[43m    \u001B[49m\u001B[43mtoken\u001B[49m\u001B[43m=\u001B[49m\u001B[43mtoken\u001B[49m\u001B[43m,\u001B[49m\n\u001B[32m   2072\u001B[39m \u001B[43m    \u001B[49m\u001B[43mstorage_options\u001B[49m\u001B[43m=\u001B[49m\u001B[43mstorage_options\u001B[49m\u001B[43m,\u001B[49m\n\u001B[32m   2073\u001B[39m \u001B[43m    \u001B[49m\u001B[43mtrust_remote_code\u001B[49m\u001B[43m=\u001B[49m\u001B[43mtrust_remote_code\u001B[49m\u001B[43m,\u001B[49m\n\u001B[32m   2074\u001B[39m \u001B[43m    \u001B[49m\u001B[43m_require_default_config_name\u001B[49m\u001B[43m=\u001B[49m\u001B[43mname\u001B[49m\u001B[43m \u001B[49m\u001B[38;5;129;43;01mis\u001B[39;49;00m\u001B[43m \u001B[49m\u001B[38;5;28;43;01mNone\u001B[39;49;00m\u001B[43m,\u001B[49m\n\u001B[32m   2075\u001B[39m \u001B[43m    \u001B[49m\u001B[43m*\u001B[49m\u001B[43m*\u001B[49m\u001B[43mconfig_kwargs\u001B[49m\u001B[43m,\u001B[49m\n\u001B[32m   2076\u001B[39m \u001B[43m\u001B[49m\u001B[43m)\u001B[49m\n\u001B[32m   2078\u001B[39m \u001B[38;5;66;03m# Return iterable dataset in case of streaming\u001B[39;00m\n\u001B[32m   2079\u001B[39m \u001B[38;5;28;01mif\u001B[39;00m streaming:\n",
      "\u001B[36mFile \u001B[39m\u001B[32m~/miniconda3/envs/mcv-c5-team1/lib/python3.12/site-packages/datasets/load.py:1781\u001B[39m, in \u001B[36mload_dataset_builder\u001B[39m\u001B[34m(path, name, data_dir, data_files, cache_dir, features, download_config, download_mode, revision, token, storage_options, trust_remote_code, _require_default_config_name, **config_kwargs)\u001B[39m\n\u001B[32m   1779\u001B[39m     download_config = download_config.copy() \u001B[38;5;28;01mif\u001B[39;00m download_config \u001B[38;5;28;01melse\u001B[39;00m DownloadConfig()\n\u001B[32m   1780\u001B[39m     download_config.storage_options.update(storage_options)\n\u001B[32m-> \u001B[39m\u001B[32m1781\u001B[39m dataset_module = \u001B[43mdataset_module_factory\u001B[49m\u001B[43m(\u001B[49m\n\u001B[32m   1782\u001B[39m \u001B[43m    \u001B[49m\u001B[43mpath\u001B[49m\u001B[43m,\u001B[49m\n\u001B[32m   1783\u001B[39m \u001B[43m    \u001B[49m\u001B[43mrevision\u001B[49m\u001B[43m=\u001B[49m\u001B[43mrevision\u001B[49m\u001B[43m,\u001B[49m\n\u001B[32m   1784\u001B[39m \u001B[43m    \u001B[49m\u001B[43mdownload_config\u001B[49m\u001B[43m=\u001B[49m\u001B[43mdownload_config\u001B[49m\u001B[43m,\u001B[49m\n\u001B[32m   1785\u001B[39m \u001B[43m    \u001B[49m\u001B[43mdownload_mode\u001B[49m\u001B[43m=\u001B[49m\u001B[43mdownload_mode\u001B[49m\u001B[43m,\u001B[49m\n\u001B[32m   1786\u001B[39m \u001B[43m    \u001B[49m\u001B[43mdata_dir\u001B[49m\u001B[43m=\u001B[49m\u001B[43mdata_dir\u001B[49m\u001B[43m,\u001B[49m\n\u001B[32m   1787\u001B[39m \u001B[43m    \u001B[49m\u001B[43mdata_files\u001B[49m\u001B[43m=\u001B[49m\u001B[43mdata_files\u001B[49m\u001B[43m,\u001B[49m\n\u001B[32m   1788\u001B[39m \u001B[43m    \u001B[49m\u001B[43mcache_dir\u001B[49m\u001B[43m=\u001B[49m\u001B[43mcache_dir\u001B[49m\u001B[43m,\u001B[49m\n\u001B[32m   1789\u001B[39m \u001B[43m    \u001B[49m\u001B[43mtrust_remote_code\u001B[49m\u001B[43m=\u001B[49m\u001B[43mtrust_remote_code\u001B[49m\u001B[43m,\u001B[49m\n\u001B[32m   1790\u001B[39m \u001B[43m    \u001B[49m\u001B[43m_require_default_config_name\u001B[49m\u001B[43m=\u001B[49m\u001B[43m_require_default_config_name\u001B[49m\u001B[43m,\u001B[49m\n\u001B[32m   1791\u001B[39m \u001B[43m    \u001B[49m\u001B[43m_require_custom_configs\u001B[49m\u001B[43m=\u001B[49m\u001B[38;5;28;43mbool\u001B[39;49m\u001B[43m(\u001B[49m\u001B[43mconfig_kwargs\u001B[49m\u001B[43m)\u001B[49m\u001B[43m,\u001B[49m\n\u001B[32m   1792\u001B[39m \u001B[43m\u001B[49m\u001B[43m)\u001B[49m\n\u001B[32m   1793\u001B[39m \u001B[38;5;66;03m# Get dataset builder class from the processing script\u001B[39;00m\n\u001B[32m   1794\u001B[39m builder_kwargs = dataset_module.builder_kwargs\n",
      "\u001B[36mFile \u001B[39m\u001B[32m~/miniconda3/envs/mcv-c5-team1/lib/python3.12/site-packages/datasets/load.py:1663\u001B[39m, in \u001B[36mdataset_module_factory\u001B[39m\u001B[34m(path, revision, download_config, download_mode, dynamic_modules_path, data_dir, data_files, cache_dir, trust_remote_code, _require_default_config_name, _require_custom_configs, **download_kwargs)\u001B[39m\n\u001B[32m   1658\u001B[39m                 \u001B[38;5;28;01melse\u001B[39;00m:\n\u001B[32m   1659\u001B[39m                     \u001B[38;5;28;01mraise\u001B[39;00m \u001B[38;5;167;01mFileNotFoundError\u001B[39;00m(\n\u001B[32m   1660\u001B[39m                         \u001B[33mf\u001B[39m\u001B[33m\"\u001B[39m\u001B[33mCouldn\u001B[39m\u001B[33m'\u001B[39m\u001B[33mt find any data file at \u001B[39m\u001B[38;5;132;01m{\u001B[39;00mrelative_to_absolute_path(path)\u001B[38;5;132;01m}\u001B[39;00m\u001B[33m. \u001B[39m\u001B[33m\"\u001B[39m\n\u001B[32m   1661\u001B[39m                         \u001B[33mf\u001B[39m\u001B[33m\"\u001B[39m\u001B[33mCouldn\u001B[39m\u001B[33m'\u001B[39m\u001B[33mt find \u001B[39m\u001B[33m'\u001B[39m\u001B[38;5;132;01m{\u001B[39;00mpath\u001B[38;5;132;01m}\u001B[39;00m\u001B[33m'\u001B[39m\u001B[33m on the Hugging Face Hub either: \u001B[39m\u001B[38;5;132;01m{\u001B[39;00m\u001B[38;5;28mtype\u001B[39m(e1).\u001B[34m__name__\u001B[39m\u001B[38;5;132;01m}\u001B[39;00m\u001B[33m: \u001B[39m\u001B[38;5;132;01m{\u001B[39;00me1\u001B[38;5;132;01m}\u001B[39;00m\u001B[33m\"\u001B[39m\n\u001B[32m   1662\u001B[39m                     ) \u001B[38;5;28;01mfrom\u001B[39;00m\u001B[38;5;250m \u001B[39m\u001B[38;5;28;01mNone\u001B[39;00m\n\u001B[32m-> \u001B[39m\u001B[32m1663\u001B[39m             \u001B[38;5;28;01mraise\u001B[39;00m e1 \u001B[38;5;28;01mfrom\u001B[39;00m\u001B[38;5;250m \u001B[39m\u001B[38;5;28;01mNone\u001B[39;00m\n\u001B[32m   1664\u001B[39m \u001B[38;5;28;01melif\u001B[39;00m trust_remote_code:\n\u001B[32m   1665\u001B[39m     \u001B[38;5;28;01mraise\u001B[39;00m \u001B[38;5;167;01mFileNotFoundError\u001B[39;00m(\n\u001B[32m   1666\u001B[39m         \u001B[33mf\u001B[39m\u001B[33m\"\u001B[39m\u001B[33mCouldn\u001B[39m\u001B[33m'\u001B[39m\u001B[33mt find a dataset script at \u001B[39m\u001B[38;5;132;01m{\u001B[39;00mrelative_to_absolute_path(combined_path)\u001B[38;5;132;01m}\u001B[39;00m\u001B[33m or any data file in the same directory.\u001B[39m\u001B[33m\"\u001B[39m\n\u001B[32m   1667\u001B[39m     )\n",
      "\u001B[36mFile \u001B[39m\u001B[32m~/miniconda3/envs/mcv-c5-team1/lib/python3.12/site-packages/datasets/load.py:1628\u001B[39m, in \u001B[36mdataset_module_factory\u001B[39m\u001B[34m(path, revision, download_config, download_mode, dynamic_modules_path, data_dir, data_files, cache_dir, trust_remote_code, _require_default_config_name, _require_custom_configs, **download_kwargs)\u001B[39m\n\u001B[32m   1618\u001B[39m     \u001B[38;5;28;01melse\u001B[39;00m:\n\u001B[32m   1619\u001B[39m         use_exported_dataset_infos = \u001B[38;5;28;01mTrue\u001B[39;00m\n\u001B[32m   1620\u001B[39m     \u001B[38;5;28;01mreturn\u001B[39;00m \u001B[43mHubDatasetModuleFactoryWithoutScript\u001B[49m\u001B[43m(\u001B[49m\n\u001B[32m   1621\u001B[39m \u001B[43m        \u001B[49m\u001B[43mpath\u001B[49m\u001B[43m,\u001B[49m\n\u001B[32m   1622\u001B[39m \u001B[43m        \u001B[49m\u001B[43mcommit_hash\u001B[49m\u001B[43m=\u001B[49m\u001B[43mcommit_hash\u001B[49m\u001B[43m,\u001B[49m\n\u001B[32m   1623\u001B[39m \u001B[43m        \u001B[49m\u001B[43mdata_dir\u001B[49m\u001B[43m=\u001B[49m\u001B[43mdata_dir\u001B[49m\u001B[43m,\u001B[49m\n\u001B[32m   1624\u001B[39m \u001B[43m        \u001B[49m\u001B[43mdata_files\u001B[49m\u001B[43m=\u001B[49m\u001B[43mdata_files\u001B[49m\u001B[43m,\u001B[49m\n\u001B[32m   1625\u001B[39m \u001B[43m        \u001B[49m\u001B[43mdownload_config\u001B[49m\u001B[43m=\u001B[49m\u001B[43mdownload_config\u001B[49m\u001B[43m,\u001B[49m\n\u001B[32m   1626\u001B[39m \u001B[43m        \u001B[49m\u001B[43mdownload_mode\u001B[49m\u001B[43m=\u001B[49m\u001B[43mdownload_mode\u001B[49m\u001B[43m,\u001B[49m\n\u001B[32m   1627\u001B[39m \u001B[43m        \u001B[49m\u001B[43muse_exported_dataset_infos\u001B[49m\u001B[43m=\u001B[49m\u001B[43muse_exported_dataset_infos\u001B[49m\u001B[43m,\u001B[49m\n\u001B[32m-> \u001B[39m\u001B[32m1628\u001B[39m \u001B[43m    \u001B[49m\u001B[43m)\u001B[49m\u001B[43m.\u001B[49m\u001B[43mget_module\u001B[49m\u001B[43m(\u001B[49m\u001B[43m)\u001B[49m\n\u001B[32m   1629\u001B[39m \u001B[38;5;28;01mexcept\u001B[39;00m GatedRepoError \u001B[38;5;28;01mas\u001B[39;00m e:\n\u001B[32m   1630\u001B[39m     message = \u001B[33mf\u001B[39m\u001B[33m\"\u001B[39m\u001B[33mDataset \u001B[39m\u001B[33m'\u001B[39m\u001B[38;5;132;01m{\u001B[39;00mpath\u001B[38;5;132;01m}\u001B[39;00m\u001B[33m'\u001B[39m\u001B[33m is a gated dataset on the Hub.\u001B[39m\u001B[33m\"\u001B[39m\n",
      "\u001B[36mFile \u001B[39m\u001B[32m~/miniconda3/envs/mcv-c5-team1/lib/python3.12/site-packages/datasets/load.py:1024\u001B[39m, in \u001B[36mHubDatasetModuleFactoryWithoutScript.get_module\u001B[39m\u001B[34m(self)\u001B[39m\n\u001B[32m   1017\u001B[39m     patterns = get_data_patterns(base_path, download_config=\u001B[38;5;28mself\u001B[39m.download_config)\n\u001B[32m   1018\u001B[39m data_files = DataFilesDict.from_patterns(\n\u001B[32m   1019\u001B[39m     patterns,\n\u001B[32m   1020\u001B[39m     base_path=base_path,\n\u001B[32m   1021\u001B[39m     allowed_extensions=ALL_ALLOWED_EXTENSIONS,\n\u001B[32m   1022\u001B[39m     download_config=\u001B[38;5;28mself\u001B[39m.download_config,\n\u001B[32m   1023\u001B[39m )\n\u001B[32m-> \u001B[39m\u001B[32m1024\u001B[39m module_name, default_builder_kwargs = \u001B[43minfer_module_for_data_files\u001B[49m\u001B[43m(\u001B[49m\n\u001B[32m   1025\u001B[39m \u001B[43m    \u001B[49m\u001B[43mdata_files\u001B[49m\u001B[43m=\u001B[49m\u001B[43mdata_files\u001B[49m\u001B[43m,\u001B[49m\n\u001B[32m   1026\u001B[39m \u001B[43m    \u001B[49m\u001B[43mpath\u001B[49m\u001B[43m=\u001B[49m\u001B[38;5;28;43mself\u001B[39;49m\u001B[43m.\u001B[49m\u001B[43mname\u001B[49m\u001B[43m,\u001B[49m\n\u001B[32m   1027\u001B[39m \u001B[43m    \u001B[49m\u001B[43mdownload_config\u001B[49m\u001B[43m=\u001B[49m\u001B[38;5;28;43mself\u001B[39;49m\u001B[43m.\u001B[49m\u001B[43mdownload_config\u001B[49m\u001B[43m,\u001B[49m\n\u001B[32m   1028\u001B[39m \u001B[43m\u001B[49m\u001B[43m)\u001B[49m\n\u001B[32m   1029\u001B[39m data_files = data_files.filter(\n\u001B[32m   1030\u001B[39m     extensions=_MODULE_TO_EXTENSIONS[module_name], file_names=_MODULE_TO_METADATA_FILE_NAMES[module_name]\n\u001B[32m   1031\u001B[39m )\n\u001B[32m   1032\u001B[39m module_path, _ = _PACKAGED_DATASETS_MODULES[module_name]\n",
      "\u001B[36mFile \u001B[39m\u001B[32m~/miniconda3/envs/mcv-c5-team1/lib/python3.12/site-packages/datasets/load.py:599\u001B[39m, in \u001B[36minfer_module_for_data_files\u001B[39m\u001B[34m(data_files, path, download_config)\u001B[39m\n\u001B[32m    597\u001B[39m module_name, default_builder_kwargs = \u001B[38;5;28mnext\u001B[39m(\u001B[38;5;28miter\u001B[39m(split_modules.values()))\n\u001B[32m    598\u001B[39m \u001B[38;5;28;01mif\u001B[39;00m \u001B[38;5;28many\u001B[39m((module_name, default_builder_kwargs) != split_module \u001B[38;5;28;01mfor\u001B[39;00m split_module \u001B[38;5;129;01min\u001B[39;00m split_modules.values()):\n\u001B[32m--> \u001B[39m\u001B[32m599\u001B[39m     \u001B[38;5;28;01mraise\u001B[39;00m \u001B[38;5;167;01mValueError\u001B[39;00m(\u001B[33mf\u001B[39m\u001B[33m\"\u001B[39m\u001B[33mCouldn\u001B[39m\u001B[33m'\u001B[39m\u001B[33mt infer the same data file format for all splits. Got \u001B[39m\u001B[38;5;132;01m{\u001B[39;00msplit_modules\u001B[38;5;132;01m}\u001B[39;00m\u001B[33m\"\u001B[39m)\n\u001B[32m    600\u001B[39m \u001B[38;5;28;01mif\u001B[39;00m \u001B[38;5;129;01mnot\u001B[39;00m module_name:\n\u001B[32m    601\u001B[39m     \u001B[38;5;28;01mraise\u001B[39;00m DataFilesNotFoundError(\u001B[33m\"\u001B[39m\u001B[33mNo (supported) data files found\u001B[39m\u001B[33m\"\u001B[39m + (\u001B[33mf\u001B[39m\u001B[33m\"\u001B[39m\u001B[33m in \u001B[39m\u001B[38;5;132;01m{\u001B[39;00mpath\u001B[38;5;132;01m}\u001B[39;00m\u001B[33m\"\u001B[39m \u001B[38;5;28;01mif\u001B[39;00m path \u001B[38;5;28;01melse\u001B[39;00m \u001B[33m\"\u001B[39m\u001B[33m\"\u001B[39m))\n",
      "\u001B[31mValueError\u001B[39m: Couldn't infer the same data file format for all splits. Got {NamedSplit('train'): ('imagefolder', {}), NamedSplit('validation'): ('audiofolder', {}), NamedSplit('test'): ('audiofolder', {})}"
     ]
    }
   ],
   "execution_count": 15
  },
  {
   "metadata": {},
   "cell_type": "code",
   "outputs": [],
   "execution_count": null,
   "source": "",
   "id": "dec89268bb817a4e"
  }
 ],
 "metadata": {
  "kernelspec": {
   "display_name": "Python 3",
   "language": "python",
   "name": "python3"
  },
  "language_info": {
   "codemirror_mode": {
    "name": "ipython",
    "version": 2
   },
   "file_extension": ".py",
   "mimetype": "text/x-python",
   "name": "python",
   "nbconvert_exporter": "python",
   "pygments_lexer": "ipython2",
   "version": "2.7.6"
  }
 },
 "nbformat": 4,
 "nbformat_minor": 5
}
